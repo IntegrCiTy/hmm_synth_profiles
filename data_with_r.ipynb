{
 "cells": [
  {
   "cell_type": "code",
   "execution_count": 5,
   "metadata": {
    "collapsed": true
   },
   "outputs": [],
   "source": [
    "# Read data\n",
    "file_name <- 'household_power_consumption.txt'\n",
    "mydata <- read.table(file_name, header = TRUE, sep = ';')"
   ]
  },
  {
   "cell_type": "code",
   "execution_count": null,
   "metadata": {},
   "outputs": [],
   "source": [
    "mydata <- mydata[,c('Global_active_power')]\n",
    "mydata"
   ]
  },
  {
   "cell_type": "code",
   "execution_count": 3,
   "metadata": {},
   "outputs": [
    {
     "ename": "ERROR",
     "evalue": "Error in colMeans(x, na.rm = TRUE): 'x' must be numeric\n",
     "output_type": "error",
     "traceback": [
      "Error in colMeans(x, na.rm = TRUE): 'x' must be numeric\nTraceback:\n",
      "1. scale(mydata)",
      "2. scale.default(mydata)",
      "3. colMeans(x, na.rm = TRUE)"
     ]
    }
   ],
   "source": [
    "# Prepare Data\n",
    "mydata <- na.omit(mydata) # listwise deletion of missing\n",
    "mydata <- scale(mydata) # standardize variables "
   ]
  },
  {
   "cell_type": "code",
   "execution_count": null,
   "metadata": {
    "collapsed": true
   },
   "outputs": [],
   "source": [
    "# Determine number of clusters\n",
    "wss <- (nrow(mydata)-1)*sum(apply(mydata,2,var))\n",
    "for (i in 2:15) wss[i] <- sum(kmeans(mydata,centers=i)$withinss)\n",
    "plot(1:15, wss, type=\"b\", xlab=\"Number of Clusters\", ylab=\"Within groups sum of squares\") "
   ]
  },
  {
   "cell_type": "code",
   "execution_count": null,
   "metadata": {
    "collapsed": true
   },
   "outputs": [],
   "source": [
    "# K-Means Cluster Analysis\n",
    "fit <- kmeans(mydata, 5) # 5 cluster solution\n",
    "# get cluster means\n",
    "aggregate(mydata,by=list(fit$cluster),FUN=mean)\n",
    "# append cluster assignment\n",
    "mydata <- data.frame(mydata, fit$cluster) "
   ]
  }
 ],
 "metadata": {
  "kernelspec": {
   "display_name": "R",
   "language": "R",
   "name": "ir"
  },
  "language_info": {
   "codemirror_mode": "r",
   "file_extension": ".r",
   "mimetype": "text/x-r-source",
   "name": "R",
   "pygments_lexer": "r",
   "version": "3.3.2"
  }
 },
 "nbformat": 4,
 "nbformat_minor": 2
}
