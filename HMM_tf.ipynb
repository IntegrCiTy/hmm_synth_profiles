{
 "cells": [
  {
   "cell_type": "code",
   "execution_count": 1,
   "metadata": {},
   "outputs": [],
   "source": [
    "import tensorflow as tf\n",
    "import numpy as np\n",
    "import matplotlib.pyplot as plt\n",
    "import seaborn as sns\n",
    "import pandas as pd\n",
    "\n",
    "from hmm import HiddenMarkovModel\n",
    "from hmm_fb import HiddenMarkovModel_FB\n",
    "\n",
    "\n",
    "tf.logging.set_verbosity(tf.logging.WARN)\n",
    "\n",
    "%matplotlib inline"
   ]
  },
  {
   "cell_type": "code",
   "execution_count": 2,
   "metadata": {
    "collapsed": true
   },
   "outputs": [],
   "source": [
    "def dptable(state_prob):\n",
    "    print(\" \".join((\"%8d\" % i) for i in range(state_prob.shape[0])))\n",
    "    for i, prob in enumerate(state_prob.T):\n",
    "        print(\"%.7s: \" % states[i] +\" \".join(\"%.7s\" % (\"%f\" % p) for p in prob))"
   ]
  },
  {
   "cell_type": "code",
   "execution_count": 3,
   "metadata": {
    "collapsed": true
   },
   "outputs": [],
   "source": [
    "p0 = np.array([0.6, 0.4])\n",
    "\n",
    "emi = np.array([[0.5, 0.1],\n",
    "                [0.4, 0.3],\n",
    "                [0.1, 0.6]])\n",
    "\n",
    "trans = np.array([[0.7, 0.3],\n",
    "                  [0.4, 0.6]])\n",
    "\n",
    "states = {0:'Healthy', 1:'Fever'}\n",
    "obs = {0:'normal', 1:'cold', 2:'dizzy'}\n",
    "\n",
    "obs_seq = np.array([0, 0, 1, 2, 2])"
   ]
  },
  {
   "cell_type": "code",
   "execution_count": 4,
   "metadata": {
    "collapsed": true
   },
   "outputs": [],
   "source": [
    "df_p0 = pd.DataFrame(p0, index=[\"Healthy\", \"Fever\"], columns=[\"Prob\"])\n",
    "df_emi = pd.DataFrame(emi, index=[\"Normal\", \"Cold\", \"Dizzy\"], columns=[\"Healthy\", \"Fever\"])\n",
    "df_trans = pd.DataFrame(trans, index=[\"fromHealthy\", \"fromFever\"], columns=[\"toHealthy\", \"toFever\"])"
   ]
  },
  {
   "cell_type": "code",
   "execution_count": 5,
   "metadata": {},
   "outputs": [
    {
     "data": {
      "text/html": [
       "<div>\n",
       "<table border=\"1\" class=\"dataframe\">\n",
       "  <thead>\n",
       "    <tr style=\"text-align: right;\">\n",
       "      <th></th>\n",
       "      <th>Prob</th>\n",
       "    </tr>\n",
       "  </thead>\n",
       "  <tbody>\n",
       "    <tr>\n",
       "      <th>Healthy</th>\n",
       "      <td>0.6</td>\n",
       "    </tr>\n",
       "    <tr>\n",
       "      <th>Fever</th>\n",
       "      <td>0.4</td>\n",
       "    </tr>\n",
       "  </tbody>\n",
       "</table>\n",
       "</div>"
      ],
      "text/plain": [
       "         Prob\n",
       "Healthy   0.6\n",
       "Fever     0.4"
      ]
     },
     "execution_count": 5,
     "metadata": {},
     "output_type": "execute_result"
    }
   ],
   "source": [
    "df_p0"
   ]
  },
  {
   "cell_type": "code",
   "execution_count": 6,
   "metadata": {},
   "outputs": [
    {
     "data": {
      "text/html": [
       "<div>\n",
       "<table border=\"1\" class=\"dataframe\">\n",
       "  <thead>\n",
       "    <tr style=\"text-align: right;\">\n",
       "      <th></th>\n",
       "      <th>toHealthy</th>\n",
       "      <th>toFever</th>\n",
       "    </tr>\n",
       "  </thead>\n",
       "  <tbody>\n",
       "    <tr>\n",
       "      <th>fromHealthy</th>\n",
       "      <td>0.7</td>\n",
       "      <td>0.3</td>\n",
       "    </tr>\n",
       "    <tr>\n",
       "      <th>fromFever</th>\n",
       "      <td>0.4</td>\n",
       "      <td>0.6</td>\n",
       "    </tr>\n",
       "  </tbody>\n",
       "</table>\n",
       "</div>"
      ],
      "text/plain": [
       "             toHealthy  toFever\n",
       "fromHealthy        0.7      0.3\n",
       "fromFever          0.4      0.6"
      ]
     },
     "execution_count": 6,
     "metadata": {},
     "output_type": "execute_result"
    }
   ],
   "source": [
    "df_trans"
   ]
  },
  {
   "cell_type": "code",
   "execution_count": 7,
   "metadata": {},
   "outputs": [
    {
     "data": {
      "text/html": [
       "<div>\n",
       "<table border=\"1\" class=\"dataframe\">\n",
       "  <thead>\n",
       "    <tr style=\"text-align: right;\">\n",
       "      <th></th>\n",
       "      <th>Healthy</th>\n",
       "      <th>Fever</th>\n",
       "    </tr>\n",
       "  </thead>\n",
       "  <tbody>\n",
       "    <tr>\n",
       "      <th>Normal</th>\n",
       "      <td>0.5</td>\n",
       "      <td>0.1</td>\n",
       "    </tr>\n",
       "    <tr>\n",
       "      <th>Cold</th>\n",
       "      <td>0.4</td>\n",
       "      <td>0.3</td>\n",
       "    </tr>\n",
       "    <tr>\n",
       "      <th>Dizzy</th>\n",
       "      <td>0.1</td>\n",
       "      <td>0.6</td>\n",
       "    </tr>\n",
       "  </tbody>\n",
       "</table>\n",
       "</div>"
      ],
      "text/plain": [
       "        Healthy  Fever\n",
       "Normal      0.5    0.1\n",
       "Cold        0.4    0.3\n",
       "Dizzy       0.1    0.6"
      ]
     },
     "execution_count": 7,
     "metadata": {},
     "output_type": "execute_result"
    }
   ],
   "source": [
    "df_emi"
   ]
  },
  {
   "cell_type": "code",
   "execution_count": 8,
   "metadata": {},
   "outputs": [
    {
     "name": "stdout",
     "output_type": "stream",
     "text": [
      "Observation sequence:  ['normal', 'normal', 'cold', 'dizzy', 'dizzy']\n",
      "Most likely States:  ['Healthy', 'Healthy', 'Healthy', 'Fever', 'Fever']\n"
     ]
    },
    {
     "data": {
      "text/html": [
       "\n",
       "        <style  type=\"text/css\" >\n",
       "        \n",
       "        \n",
       "            #T_714811a8_6b97_11e7_aa1f_0242ac110002row0_col0 {\n",
       "            \n",
       "                text-align:  left;\n",
       "            \n",
       "            }\n",
       "        \n",
       "            #T_714811a8_6b97_11e7_aa1f_0242ac110002row0_col1 {\n",
       "            \n",
       "                text-align:  left;\n",
       "            \n",
       "            }\n",
       "        \n",
       "            #T_714811a8_6b97_11e7_aa1f_0242ac110002row0_col2 {\n",
       "            \n",
       "                text-align:  left;\n",
       "            \n",
       "            }\n",
       "        \n",
       "            #T_714811a8_6b97_11e7_aa1f_0242ac110002row0_col3 {\n",
       "            \n",
       "                text-align:  left;\n",
       "            \n",
       "            }\n",
       "        \n",
       "            #T_714811a8_6b97_11e7_aa1f_0242ac110002row0_col4 {\n",
       "            \n",
       "                text-align:  left;\n",
       "            \n",
       "            }\n",
       "        \n",
       "            #T_714811a8_6b97_11e7_aa1f_0242ac110002row1_col0 {\n",
       "            \n",
       "                text-align:  left;\n",
       "            \n",
       "            }\n",
       "        \n",
       "            #T_714811a8_6b97_11e7_aa1f_0242ac110002row1_col1 {\n",
       "            \n",
       "                text-align:  left;\n",
       "            \n",
       "            }\n",
       "        \n",
       "            #T_714811a8_6b97_11e7_aa1f_0242ac110002row1_col2 {\n",
       "            \n",
       "                text-align:  left;\n",
       "            \n",
       "            }\n",
       "        \n",
       "            #T_714811a8_6b97_11e7_aa1f_0242ac110002row1_col3 {\n",
       "            \n",
       "                text-align:  left;\n",
       "            \n",
       "            }\n",
       "        \n",
       "            #T_714811a8_6b97_11e7_aa1f_0242ac110002row1_col4 {\n",
       "            \n",
       "                text-align:  left;\n",
       "            \n",
       "            }\n",
       "        \n",
       "        </style>\n",
       "\n",
       "        <table id=\"T_714811a8_6b97_11e7_aa1f_0242ac110002\" None>\n",
       "        \n",
       "\n",
       "        <thead>\n",
       "            \n",
       "            <tr>\n",
       "                \n",
       "                \n",
       "                <th class=\"blank level0\" >\n",
       "                  \n",
       "                \n",
       "                \n",
       "                \n",
       "                <th class=\"col_heading level0 col0\" colspan=1>\n",
       "                  0\n",
       "                \n",
       "                \n",
       "                \n",
       "                <th class=\"col_heading level0 col1\" colspan=1>\n",
       "                  1\n",
       "                \n",
       "                \n",
       "                \n",
       "                <th class=\"col_heading level0 col2\" colspan=1>\n",
       "                  2\n",
       "                \n",
       "                \n",
       "                \n",
       "                <th class=\"col_heading level0 col3\" colspan=1>\n",
       "                  3\n",
       "                \n",
       "                \n",
       "                \n",
       "                <th class=\"col_heading level0 col4\" colspan=1>\n",
       "                  4\n",
       "                \n",
       "                \n",
       "            </tr>\n",
       "            \n",
       "        </thead>\n",
       "        <tbody>\n",
       "            \n",
       "            <tr>\n",
       "                \n",
       "                \n",
       "                <th id=\"T_714811a8_6b97_11e7_aa1f_0242ac110002\"\n",
       "                 class=\"row_heading level0 row0\" rowspan=1>\n",
       "                    Healthy\n",
       "                \n",
       "                \n",
       "                \n",
       "                <td id=\"T_714811a8_6b97_11e7_aa1f_0242ac110002row0_col0\"\n",
       "                 class=\"data row0 col0\" >\n",
       "                    0.3\n",
       "                \n",
       "                \n",
       "                \n",
       "                <td id=\"T_714811a8_6b97_11e7_aa1f_0242ac110002row0_col1\"\n",
       "                 class=\"data row0 col1\" >\n",
       "                    0.105\n",
       "                \n",
       "                \n",
       "                \n",
       "                <td id=\"T_714811a8_6b97_11e7_aa1f_0242ac110002row0_col2\"\n",
       "                 class=\"data row0 col2\" >\n",
       "                    0.0294\n",
       "                \n",
       "                \n",
       "                \n",
       "                <td id=\"T_714811a8_6b97_11e7_aa1f_0242ac110002row0_col3\"\n",
       "                 class=\"data row0 col3\" >\n",
       "                    0.002058\n",
       "                \n",
       "                \n",
       "                \n",
       "                <td id=\"T_714811a8_6b97_11e7_aa1f_0242ac110002row0_col4\"\n",
       "                 class=\"data row0 col4\" >\n",
       "                    0.00021168\n",
       "                \n",
       "                \n",
       "            </tr>\n",
       "            \n",
       "            <tr>\n",
       "                \n",
       "                \n",
       "                <th id=\"T_714811a8_6b97_11e7_aa1f_0242ac110002\"\n",
       "                 class=\"row_heading level0 row1\" rowspan=1>\n",
       "                    Fever\n",
       "                \n",
       "                \n",
       "                \n",
       "                <td id=\"T_714811a8_6b97_11e7_aa1f_0242ac110002row1_col0\"\n",
       "                 class=\"data row1 col0\" >\n",
       "                    0.04\n",
       "                \n",
       "                \n",
       "                \n",
       "                <td id=\"T_714811a8_6b97_11e7_aa1f_0242ac110002row1_col1\"\n",
       "                 class=\"data row1 col1\" >\n",
       "                    0.009\n",
       "                \n",
       "                \n",
       "                \n",
       "                <td id=\"T_714811a8_6b97_11e7_aa1f_0242ac110002row1_col2\"\n",
       "                 class=\"data row1 col2\" >\n",
       "                    0.00945\n",
       "                \n",
       "                \n",
       "                \n",
       "                <td id=\"T_714811a8_6b97_11e7_aa1f_0242ac110002row1_col3\"\n",
       "                 class=\"data row1 col3\" >\n",
       "                    0.005292\n",
       "                \n",
       "                \n",
       "                \n",
       "                <td id=\"T_714811a8_6b97_11e7_aa1f_0242ac110002row1_col4\"\n",
       "                 class=\"data row1 col4\" >\n",
       "                    0.00190512\n",
       "                \n",
       "                \n",
       "            </tr>\n",
       "            \n",
       "        </tbody>\n",
       "        </table>\n",
       "        "
      ],
      "text/plain": [
       "<pandas.formats.style.Styler at 0x7f9e4035ce80>"
      ]
     },
     "execution_count": 8,
     "metadata": {},
     "output_type": "execute_result"
    }
   ],
   "source": [
    "model =  HiddenMarkovModel(trans, emi, p0)\n",
    "states_seq, state_prob = model.run_viterbi(obs_seq, summary=True)\n",
    "\n",
    "print(\"Observation sequence: \", [obs[o] for o in obs_seq])\n",
    "print(\"Most likely States: \",[states[s] for s in states_seq])\n",
    "df = pd.DataFrame(state_prob.T, index=[\"Healthy\", \"Fever\"])\n",
    "df.style.set_properties(**{'text-align': 'left'})"
   ]
  },
  {
   "cell_type": "code",
   "execution_count": 9,
   "metadata": {
    "collapsed": true
   },
   "outputs": [],
   "source": [
    "p0 = np.array([0.5, 0.5])\n",
    "\n",
    "emi = np.array([[0.9, 0.2],\n",
    "                [0.1, 0.8]])\n",
    "\n",
    "trans = np.array([[0.7, 0.3],\n",
    "                  [0.3, 0.7]])\n",
    "\n",
    "states = {0:'rain', 1:'no_rain'}\n",
    "obs = {0:'umbrella', 1:'no_umbrella'}\n",
    "\n",
    "obs_seq = np.array([1, 1, 0, 0, 0, 1])"
   ]
  },
  {
   "cell_type": "code",
   "execution_count": 10,
   "metadata": {},
   "outputs": [
    {
     "name": "stdout",
     "output_type": "stream",
     "text": [
      "\n",
      "Forward\n",
      "       0        1        2        3        4        5        6\n",
      "rain: 0.50000 0.11111 0.06163 0.68386 0.85819 0.89029 0.19256\n",
      "no_rain: 0.50000 0.88888 0.93837 0.31613 0.14180 0.10971 0.80743\n",
      "\n",
      "\n",
      "Backward\n",
      "       0        1        2        3        4        5        6\n",
      "rain: 0.32814 0.37709 0.65637 0.64477 0.58110 0.34444 1.00000\n",
      "no_rain: 0.67186 0.62290 0.34363 0.35522 0.41889 0.65555 1.00000\n",
      "\n",
      "\n",
      "Posterior\n",
      "       0        1        2        3        4        5        6\n",
      "rain: 0.32814 0.07035 0.11146 0.79701 0.89357 0.81002 0.19256\n",
      "no_rain: 0.67186 0.92965 0.88853 0.20298 0.10643 0.18997 0.80743\n",
      "\n",
      "============================================================\n",
      "Most likely Final State:  no_rain\n",
      "============================================================\n"
     ]
    }
   ],
   "source": [
    "model =  HiddenMarkovModel_FB(trans, emi, p0)\n",
    "\n",
    "results = model.run_forward_backward(obs_seq)\n",
    "result_list = [\"Forward\", \"Backward\", \"Posterior\"]\n",
    "\n",
    "for state_prob, path in zip(results, result_list) :\n",
    "    inferred_states = np.argmax(state_prob, axis=1)\n",
    "    print()\n",
    "    print(path)\n",
    "    dptable(state_prob)\n",
    "    print()\n",
    "\n",
    "print(\"=\"*60)\n",
    "print(\"Most likely Final State: \",states[inferred_states[-1]])\n",
    "print(\"=\"*60)"
   ]
  },
  {
   "cell_type": "code",
   "execution_count": 11,
   "metadata": {
    "collapsed": true
   },
   "outputs": [],
   "source": [
    "def generate_HMM_observation(num_obs, pi, T, E):\n",
    "    \n",
    "    def drawFrom(probs):\n",
    "        return np.where(np.random.multinomial(1,probs) == 1)[0][0]\n",
    "\n",
    "    obs = np.zeros(num_obs)\n",
    "    states = np.zeros(num_obs)\n",
    "    \n",
    "    states[0] = drawFrom(pi)\n",
    "    obs[0] = drawFrom(E[:, int(states[0])])\n",
    "    \n",
    "    for t in range(1,num_obs):\n",
    "        states[t] = drawFrom(T[int(states[t-1]),:])\n",
    "        obs[t] = drawFrom(E[:, int(states[t])])\n",
    "        \n",
    "    return obs, states"
   ]
  },
  {
   "cell_type": "code",
   "execution_count": 12,
   "metadata": {
    "collapsed": true
   },
   "outputs": [],
   "source": [
    "True_pi = np.array([0.5, 0.5])\n",
    "\n",
    "True_T = np.array([[0.85, 0.15],\n",
    "                  [0.12, 0.88]])\n",
    "\n",
    "True_E = np.array([[0.8, 0.0],\n",
    "                   [0.1, 0.0],\n",
    "                   [0.1, 1.0]])"
   ]
  },
  {
   "cell_type": "code",
   "execution_count": 13,
   "metadata": {},
   "outputs": [
    {
     "name": "stdout",
     "output_type": "stream",
     "text": [
      "First 15 Obersvations:   [ 2.  2.  2.  2.  2.  2.  2.  2.  2.  2.  2.  2.  0.  0.  0.]\n",
      "First 15 Hidden States:  [ 1.  1.  1.  1.  1.  1.  1.  1.  1.  1.  1.  1.  0.  0.  0.]\n"
     ]
    }
   ],
   "source": [
    "obs_seq, states = generate_HMM_observation(50, True_pi, True_T, True_E)\n",
    "print(\"First 15 Obersvations:  \", obs_seq[:15])\n",
    "print(\"First 15 Hidden States: \", states[:15])"
   ]
  },
  {
   "cell_type": "code",
   "execution_count": 14,
   "metadata": {
    "collapsed": true
   },
   "outputs": [],
   "source": [
    "init_pi = np.array([0.5, 0.5])\n",
    "\n",
    "init_T = np.array([[0.5, 0.5],\n",
    "                  [0.5, 0.5]])\n",
    "\n",
    "init_E = np.array([[0.3, 0.2],\n",
    "                   [0.3, 0.5],\n",
    "                   [0.4, 0.3]])"
   ]
  },
  {
   "cell_type": "code",
   "execution_count": 15,
   "metadata": {},
   "outputs": [],
   "source": [
    "model =  HiddenMarkovModel(init_T, init_E, init_pi, epsilon=0.00001, maxStep=20)\n",
    "\n",
    "trans0, transition, emission, c = model.run_Baum_Welch_EM(obs_seq, summary=False, monitor_state_1=False)"
   ]
  },
  {
   "cell_type": "code",
   "execution_count": 17,
   "metadata": {},
   "outputs": [
    {
     "name": "stdout",
     "output_type": "stream",
     "text": [
      "Transition Matrix: \n",
      "[[ 0.55541573  0.44458427]\n",
      " [ 0.59577175  0.40422825]]\n",
      "\n",
      "Emission Matrix: \n",
      "[[ 0.47041126  0.39942016]\n",
      " [ 0.03756457  0.08993714]\n",
      " [ 0.49202417  0.5106427 ]]\n",
      "\n",
      "Reached Convergence: \n",
      "True\n"
     ]
    }
   ],
   "source": [
    "print(\"Transition Matrix: \")\n",
    "print(transition)\n",
    "print()\n",
    "\n",
    "print(\"Emission Matrix: \")\n",
    "print(emission)\n",
    "print()\n",
    "\n",
    "print(\"Reached Convergence: \")\n",
    "print(c)"
   ]
  }
 ],
 "metadata": {
  "kernelspec": {
   "display_name": "Python 3",
   "language": "python",
   "name": "python3"
  },
  "language_info": {
   "codemirror_mode": {
    "name": "ipython",
    "version": 3
   },
   "file_extension": ".py",
   "mimetype": "text/x-python",
   "name": "python",
   "nbconvert_exporter": "python",
   "pygments_lexer": "ipython3",
   "version": "3.6.1"
  }
 },
 "nbformat": 4,
 "nbformat_minor": 2
}
